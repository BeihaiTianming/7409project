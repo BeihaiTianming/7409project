{
 "cells": [
  {
   "cell_type": "markdown",
   "metadata": {},
   "source": [
    "# 数据处理"
   ]
  },
  {
   "cell_type": "code",
   "execution_count": 22,
   "metadata": {},
   "outputs": [
    {
     "name": "stdout",
     "output_type": "stream",
     "text": [
      "0            Markets in term oil!\\nhttps://t.co/oxphfzxi8y\n",
      "1        Italian banks are the new oil: oversupplied an...\n",
      "2                                     Markets in term oil.\n",
      "3        In the age of Wikipedia, you can be an instant...\n",
      "4        Watching European gas prices every day is like...\n",
      "                               ...                        \n",
      "93345                  it's all the Phillips Curve's fault\n",
      "93346    \"Bloodbath\" In Black Gold - Buffett's Phillips...\n",
      "93347    Godfrey Phillips Plans Restructuring After sto...\n",
      "93348    \"If the Phillips curve is still alive and well...\n",
      "93349    Economist value added: \"We generate 2,000 simu...\n",
      "Name: content, Length: 93350, dtype: object\n",
      "(93350, 8)\n"
     ]
    }
   ],
   "source": [
    "import pandas as pd\n",
    "\n",
    "df_fin = pd.read_csv('./tweets_data/tweets_fin_updated.csv')\n",
    "\n",
    "#显示keyword有多少种，各有多少个\n",
    "#print(df_fin['keyword'].value_counts())\n",
    "print(df_fin['content'])\n",
    "#打印df_fin数据行数\n",
    "print(df_fin.shape)"
   ]
  },
  {
   "cell_type": "code",
   "execution_count": 23,
   "metadata": {},
   "outputs": [
    {
     "name": "stdout",
     "output_type": "stream",
     "text": [
      "(92348, 8)\n",
      "Unnamed: 0                              0\n",
      "date            2016-12-01 16:31:45+00:00\n",
      "id                     804362360077041668\n",
      "content            Markets in term oil!\\n\n",
      "username                      5_min_macro\n",
      "likeCount                               1\n",
      "retweetCount                            0\n",
      "keyword                        oil market\n",
      "Name: 0, dtype: object\n"
     ]
    }
   ],
   "source": [
    "#使用re库，去除content中的链接，表情以及@某人的内容\n",
    "import re\n",
    "\n",
    "def word_count(content):\n",
    "    return len(content.split())\n",
    "\n",
    "def remove_link(content):\n",
    "    content = re.sub(r\"http\\S+\", \"\", content)\n",
    "    content = re.sub(r\"@\\S+\", \"\", content)\n",
    "    content = re.sub(r\"pic.\\S+\", \"\", content)\n",
    "    content = re.sub(r\"#\\S+\", \"\", content)\n",
    "    if word_count(content) < 4:\n",
    "        return None\n",
    "    return content\n",
    "\n",
    "df_fin['content'] = df_fin['content'].apply(remove_link)\n",
    "df_fin= df_fin.dropna(subset=['content'])\n",
    "\n",
    "#打印df_fin数据行数\n",
    "print(df_fin.shape)\n",
    "\n",
    "#打印df_fin第一行的所有数据\n",
    "print(df_fin.iloc[0])\n",
    "\n",
    "\n"
   ]
  }
 ],
 "metadata": {
  "kernelspec": {
   "display_name": "DDSP",
   "language": "python",
   "name": "python3"
  },
  "language_info": {
   "codemirror_mode": {
    "name": "ipython",
    "version": 3
   },
   "file_extension": ".py",
   "mimetype": "text/x-python",
   "name": "python",
   "nbconvert_exporter": "python",
   "pygments_lexer": "ipython3",
   "version": "3.8.17"
  }
 },
 "nbformat": 4,
 "nbformat_minor": 2
}
